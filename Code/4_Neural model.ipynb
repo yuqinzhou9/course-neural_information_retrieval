{
 "cells": [
  {
   "cell_type": "markdown",
   "metadata": {},
   "source": []
  },
  {
   "cell_type": "code",
   "execution_count": 1,
   "metadata": {},
   "outputs": [
    {
     "name": "stdout",
     "output_type": "stream",
     "text": [
      "Downloading terrier-assemblies 5.x-SNAPSHOT jar-with-dependencies to /Users/zhouyuqin/.pyterrier...\n",
      "Done\n"
     ]
    },
    {
     "name": "stderr",
     "output_type": "stream",
     "text": [
      "PyTerrier 0.8.1 has loaded Terrier 5.6 (built by jitpack on 2022-04-12 09:28)\n",
      "\n",
      "No etc/terrier.properties, using terrier.default.properties for bootstrap configuration.\n"
     ]
    }
   ],
   "source": [
    "import pyterrier as pt\n",
    "import json\n",
    "from NIRfunction import *\n",
    "import pyterrier as pt\n",
    "import os\n",
    "\n",
    "pt.init(\n",
    "        mem=8000,\n",
    "        version=\"snapshot\",\n",
    "        tqdm=\"notebook\",\n",
    "        boot_packages=[\"com.github.terrierteam:terrier-prf:-SNAPSHOT\"],\n",
    "    )"
   ]
  },
  {
   "cell_type": "code",
   "execution_count": 2,
   "metadata": {},
   "outputs": [
    {
     "name": "stdout",
     "output_type": "stream",
     "text": [
      "Number of documents: 528155\n",
      "Number of terms: 520520\n",
      "Number of postings: 83716130\n",
      "Number of fields: 2\n",
      "Number of tokens: 145322007\n",
      "Field names: [title, text]\n",
      "Positions:   false\n",
      "\n"
     ]
    }
   ],
   "source": [
    "# iter_indexer = pt.IterDictIndexer(\n",
    "#     '/content/drive/MyDrive/NIR/NIR2022 dataset/indexes/iterindex',\n",
    "#     overwrite=True,\n",
    "#     meta=[\"docno\", \"title\", \"text\"],\n",
    "#     meta_lengths=[20, 100, 4096],\n",
    "# )\n",
    "\n",
    "# indexref = iter_indexer.index(generate_dataset(), fields=[\"title\", \"text\"])\n",
    "# index = pt.IndexFactory.of(indexref)\n",
    "\n",
    "index = pt.IndexFactory.of(\"/Users/zhouyuqin/github/NIR/Project/indexes/stage2/iterindex\")\n",
    "\n",
    "print(index.getCollectionStatistics())"
   ]
  },
  {
   "cell_type": "code",
   "execution_count": 3,
   "metadata": {},
   "outputs": [],
   "source": [
    "train_query = get_query('../Project/NIR2022 dataset/data/train_query.csv')\n",
    "train_qrel = get_qrel('../Project/NIR2022 dataset/data/train_qrel.csv')"
   ]
  },
  {
   "cell_type": "code",
   "execution_count": 4,
   "metadata": {},
   "outputs": [],
   "source": [
    "BM25_qe = pt.BatchRetrieve(index, wmodel=\"BM25\", controls={\"qemodel\" : \"Bo2\", \"qe\" : \"on\", \"c\": 0.5, \"bm25.k_1\": 0.9})"
   ]
  },
  {
   "cell_type": "markdown",
   "metadata": {},
   "source": [
    "#### Query expansion using Glove pre-trained embedding"
   ]
  },
  {
   "cell_type": "code",
   "execution_count": 5,
   "metadata": {},
   "outputs": [
    {
     "name": "stdout",
     "output_type": "stream",
     "text": [
      "Requirement already satisfied: gensim in /Users/zhouyuqin/opt/anaconda3/lib/python3.8/site-packages (4.2.0)\n",
      "Requirement already satisfied: smart-open>=1.8.1 in /Users/zhouyuqin/opt/anaconda3/lib/python3.8/site-packages (from gensim) (5.1.0)\n",
      "Requirement already satisfied: numpy>=1.17.0 in /Users/zhouyuqin/opt/anaconda3/lib/python3.8/site-packages (from gensim) (1.21.5)\n",
      "Requirement already satisfied: scipy>=0.18.1 in /Users/zhouyuqin/opt/anaconda3/lib/python3.8/site-packages (from gensim) (1.7.3)\n"
     ]
    }
   ],
   "source": [
    "!pip install --upgrade gensim"
   ]
  },
  {
   "cell_type": "code",
   "execution_count": 6,
   "metadata": {},
   "outputs": [],
   "source": [
    "import gensim\n",
    "import gensim.downloader as api"
   ]
  },
  {
   "cell_type": "code",
   "execution_count": 7,
   "metadata": {},
   "outputs": [
    {
     "name": "stdout",
     "output_type": "stream",
     "text": [
      "[('trees', 0.8510393500328064), ('grass', 0.6922112703323364), ('pine', 0.6856961846351624), ('oak', 0.6387961506843567), ('leaf', 0.6364573836326599), ('bushes', 0.6336526870727539), ('flower', 0.6273626089096069), ('green', 0.6112821698188782), ('garden', 0.6033942103385925), ('bark', 0.6031672358512878)]\n"
     ]
    }
   ],
   "source": [
    "# Download and load Glove vectors\n",
    "model = api.load('glove-wiki-gigaword-100')\n",
    "print(model.most_similar('tree'))"
   ]
  },
  {
   "cell_type": "code",
   "execution_count": 8,
   "metadata": {},
   "outputs": [
    {
     "data": {
      "text/html": [
       "<div>\n",
       "<style scoped>\n",
       "    .dataframe tbody tr th:only-of-type {\n",
       "        vertical-align: middle;\n",
       "    }\n",
       "\n",
       "    .dataframe tbody tr th {\n",
       "        vertical-align: top;\n",
       "    }\n",
       "\n",
       "    .dataframe thead th {\n",
       "        text-align: right;\n",
       "    }\n",
       "</style>\n",
       "<table border=\"1\" class=\"dataframe\">\n",
       "  <thead>\n",
       "    <tr style=\"text-align: right;\">\n",
       "      <th></th>\n",
       "      <th>qid</th>\n",
       "      <th>query</th>\n",
       "    </tr>\n",
       "  </thead>\n",
       "  <tbody>\n",
       "    <tr>\n",
       "      <th>0</th>\n",
       "      <td>301</td>\n",
       "      <td>european global international organised organi...</td>\n",
       "    </tr>\n",
       "    <tr>\n",
       "      <th>1</th>\n",
       "      <td>302</td>\n",
       "      <td>polio measles poliomyelitis , office times pos...</td>\n",
       "    </tr>\n",
       "    <tr>\n",
       "      <th>2</th>\n",
       "      <td>303</td>\n",
       "      <td>telescope nasa hubble telescopes hubble telesc...</td>\n",
       "    </tr>\n",
       "    <tr>\n",
       "      <th>3</th>\n",
       "      <td>306</td>\n",
       "      <td>africa africans african military civilians civ...</td>\n",
       "    </tr>\n",
       "    <tr>\n",
       "      <th>4</th>\n",
       "      <td>307</td>\n",
       "      <td>york new hydropower hydroelectricity hydroelec...</td>\n",
       "    </tr>\n",
       "    <tr>\n",
       "      <th>...</th>\n",
       "      <td>...</td>\n",
       "      <td>...</td>\n",
       "    </tr>\n",
       "    <tr>\n",
       "      <th>195</th>\n",
       "      <td>693</td>\n",
       "      <td>newspaper dailies newspapers digital electroni...</td>\n",
       "    </tr>\n",
       "    <tr>\n",
       "      <th>196</th>\n",
       "      <td>695</td>\n",
       "      <td>black brown white black shirt collar criminal ...</td>\n",
       "    </tr>\n",
       "    <tr>\n",
       "      <th>197</th>\n",
       "      <td>697</td>\n",
       "      <td>force aircraft air congestion rail traffic con...</td>\n",
       "    </tr>\n",
       "    <tr>\n",
       "      <th>198</th>\n",
       "      <td>698</td>\n",
       "      <td>numeracy education literacy rate inflation rat...</td>\n",
       "    </tr>\n",
       "    <tr>\n",
       "      <th>199</th>\n",
       "      <td>700</td>\n",
       "      <td>petrol fuel gasoline taxes income tax n z u wr...</td>\n",
       "    </tr>\n",
       "  </tbody>\n",
       "</table>\n",
       "<p>200 rows × 2 columns</p>\n",
       "</div>"
      ],
      "text/plain": [
       "     qid                                              query\n",
       "0    301  european global international organised organi...\n",
       "1    302  polio measles poliomyelitis , office times pos...\n",
       "2    303  telescope nasa hubble telescopes hubble telesc...\n",
       "3    306  africa africans african military civilians civ...\n",
       "4    307  york new hydropower hydroelectricity hydroelec...\n",
       "..   ...                                                ...\n",
       "195  693  newspaper dailies newspapers digital electroni...\n",
       "196  695  black brown white black shirt collar criminal ...\n",
       "197  697  force aircraft air congestion rail traffic con...\n",
       "198  698  numeracy education literacy rate inflation rat...\n",
       "199  700  petrol fuel gasoline taxes income tax n z u wr...\n",
       "\n",
       "[200 rows x 2 columns]"
      ]
     },
     "execution_count": 8,
     "metadata": {},
     "output_type": "execute_result"
    }
   ],
   "source": [
    "# Expand each query by adding the top-2 similar words for each word in the query\n",
    "k = 2\n",
    "\n",
    "topics_qe_df = train_query.copy()\n",
    "for i in range(len(topics_qe_df)):\n",
    "    q = topics_qe_df.iloc[i]['query']\n",
    "    qe = []\n",
    "    for word in q.split(' '):\n",
    "        expanded_words = [pair[0] for pair in model.most_similar(word, topn=k)]\n",
    "        expanded_words.append(word)\n",
    "        qe.append(expanded_words)\n",
    "    topics_qe_df.iloc[i]['query'] = gensim.parsing.preprocessing.remove_stopwords(\" \".join([e for l in qe for e in l]))\n",
    "\n",
    "topics_qe_df"
   ]
  },
  {
   "cell_type": "code",
   "execution_count": 9,
   "metadata": {},
   "outputs": [
    {
     "data": {
      "text/html": [
       "<div>\n",
       "<style scoped>\n",
       "    .dataframe tbody tr th:only-of-type {\n",
       "        vertical-align: middle;\n",
       "    }\n",
       "\n",
       "    .dataframe tbody tr th {\n",
       "        vertical-align: top;\n",
       "    }\n",
       "\n",
       "    .dataframe thead th {\n",
       "        text-align: right;\n",
       "    }\n",
       "</style>\n",
       "<table border=\"1\" class=\"dataframe\">\n",
       "  <thead>\n",
       "    <tr style=\"text-align: right;\">\n",
       "      <th></th>\n",
       "      <th>name</th>\n",
       "      <th>map</th>\n",
       "      <th>ndcg_cut_5</th>\n",
       "      <th>ndcg_cut_10</th>\n",
       "      <th>ndcg_cut_20</th>\n",
       "    </tr>\n",
       "  </thead>\n",
       "  <tbody>\n",
       "    <tr>\n",
       "      <th>0</th>\n",
       "      <td>BR(BM25)</td>\n",
       "      <td>0.190875</td>\n",
       "      <td>0.349375</td>\n",
       "      <td>0.333815</td>\n",
       "      <td>0.317989</td>\n",
       "    </tr>\n",
       "  </tbody>\n",
       "</table>\n",
       "</div>"
      ],
      "text/plain": [
       "       name       map  ndcg_cut_5  ndcg_cut_10  ndcg_cut_20\n",
       "0  BR(BM25)  0.190875    0.349375     0.333815     0.317989"
      ]
     },
     "execution_count": 9,
     "metadata": {},
     "output_type": "execute_result"
    }
   ],
   "source": [
    "# Evaluate previous systems on the expanded topics\n",
    "pt.Experiment(\n",
    "    retr_systems=[BM25_qe],\n",
    "    topics=topics_qe_df,\n",
    "    qrels=train_qrel,\n",
    "    eval_metrics=[\"map\", \"ndcg_cut_5\", \"ndcg_cut_10\", \"ndcg_cut_20\"])"
   ]
  },
  {
   "cell_type": "code",
   "execution_count": 10,
   "metadata": {},
   "outputs": [
    {
     "data": {
      "text/html": [
       "<div>\n",
       "<style scoped>\n",
       "    .dataframe tbody tr th:only-of-type {\n",
       "        vertical-align: middle;\n",
       "    }\n",
       "\n",
       "    .dataframe tbody tr th {\n",
       "        vertical-align: top;\n",
       "    }\n",
       "\n",
       "    .dataframe thead th {\n",
       "        text-align: right;\n",
       "    }\n",
       "</style>\n",
       "<table border=\"1\" class=\"dataframe\">\n",
       "  <thead>\n",
       "    <tr style=\"text-align: right;\">\n",
       "      <th></th>\n",
       "      <th>qid</th>\n",
       "      <th>query</th>\n",
       "    </tr>\n",
       "  </thead>\n",
       "  <tbody>\n",
       "    <tr>\n",
       "      <th>0</th>\n",
       "      <td>301</td>\n",
       "      <td>european global world nations regional interna...</td>\n",
       "    </tr>\n",
       "    <tr>\n",
       "      <th>1</th>\n",
       "      <td>302</td>\n",
       "      <td>polio measles diphtheria chickenpox rabies pol...</td>\n",
       "    </tr>\n",
       "    <tr>\n",
       "      <th>2</th>\n",
       "      <td>303</td>\n",
       "      <td>telescope nasa orbiting shuttle spacecraft hub...</td>\n",
       "    </tr>\n",
       "    <tr>\n",
       "      <th>3</th>\n",
       "      <td>306</td>\n",
       "      <td>africa africans asian south nations african mi...</td>\n",
       "    </tr>\n",
       "    <tr>\n",
       "      <th>4</th>\n",
       "      <td>307</td>\n",
       "      <td>york new hydropower hydroelectricity hydro dam...</td>\n",
       "    </tr>\n",
       "    <tr>\n",
       "      <th>...</th>\n",
       "      <td>...</td>\n",
       "      <td>...</td>\n",
       "    </tr>\n",
       "    <tr>\n",
       "      <th>195</th>\n",
       "      <td>693</td>\n",
       "      <td>newspaper dailies magazines news publications ...</td>\n",
       "    </tr>\n",
       "    <tr>\n",
       "      <th>196</th>\n",
       "      <td>695</td>\n",
       "      <td>black brown gray red green white black shirt b...</td>\n",
       "    </tr>\n",
       "    <tr>\n",
       "      <th>197</th>\n",
       "      <td>697</td>\n",
       "      <td>force aircraft planes flying jet air congestio...</td>\n",
       "    </tr>\n",
       "    <tr>\n",
       "      <th>198</th>\n",
       "      <td>698</td>\n",
       "      <td>numeracy education educational illiteracy math...</td>\n",
       "    </tr>\n",
       "    <tr>\n",
       "      <th>199</th>\n",
       "      <td>700</td>\n",
       "      <td>petrol fuel heating crude diesel gasoline taxe...</td>\n",
       "    </tr>\n",
       "  </tbody>\n",
       "</table>\n",
       "<p>200 rows × 2 columns</p>\n",
       "</div>"
      ],
      "text/plain": [
       "     qid                                              query\n",
       "0    301  european global world nations regional interna...\n",
       "1    302  polio measles diphtheria chickenpox rabies pol...\n",
       "2    303  telescope nasa orbiting shuttle spacecraft hub...\n",
       "3    306  africa africans asian south nations african mi...\n",
       "4    307  york new hydropower hydroelectricity hydro dam...\n",
       "..   ...                                                ...\n",
       "195  693  newspaper dailies magazines news publications ...\n",
       "196  695  black brown gray red green white black shirt b...\n",
       "197  697  force aircraft planes flying jet air congestio...\n",
       "198  698  numeracy education educational illiteracy math...\n",
       "199  700  petrol fuel heating crude diesel gasoline taxe...\n",
       "\n",
       "[200 rows x 2 columns]"
      ]
     },
     "execution_count": 10,
     "metadata": {},
     "output_type": "execute_result"
    }
   ],
   "source": [
    "# Expand each query by adding the top-5 similar words for each word in the query\n",
    "k = 5\n",
    "\n",
    "topics_qe_df = train_query.copy()\n",
    "for i in range(len(topics_qe_df)):\n",
    "    q = topics_qe_df.iloc[i]['query']\n",
    "    qe = []\n",
    "    for word in q.split(' '):\n",
    "        expanded_words = [pair[0] for pair in model.most_similar(word, topn=k)]\n",
    "        expanded_words.append(word)\n",
    "        qe.append(expanded_words)\n",
    "    topics_qe_df.iloc[i]['query'] = gensim.parsing.preprocessing.remove_stopwords(\" \".join([e for l in qe for e in l]))\n",
    "\n",
    "topics_qe_df"
   ]
  },
  {
   "cell_type": "code",
   "execution_count": 11,
   "metadata": {},
   "outputs": [],
   "source": [
    "### to replace \"/\"\n",
    "topics_qe_df.loc[134, \"query\"] = 'killings arrest detentions raids suspects arrests bombings attacks attack suicide raid bombing fod 4c khobar skyscraper wtc'\n",
    "topics_qe_df.loc[197, \"query\"] = \"force aircraft planes flying jet air congestion rail train roads passenger traffic controllers interface device sensor controller\""
   ]
  },
  {
   "cell_type": "code",
   "execution_count": 13,
   "metadata": {},
   "outputs": [
    {
     "data": {
      "text/html": [
       "<div>\n",
       "<style scoped>\n",
       "    .dataframe tbody tr th:only-of-type {\n",
       "        vertical-align: middle;\n",
       "    }\n",
       "\n",
       "    .dataframe tbody tr th {\n",
       "        vertical-align: top;\n",
       "    }\n",
       "\n",
       "    .dataframe thead th {\n",
       "        text-align: right;\n",
       "    }\n",
       "</style>\n",
       "<table border=\"1\" class=\"dataframe\">\n",
       "  <thead>\n",
       "    <tr style=\"text-align: right;\">\n",
       "      <th></th>\n",
       "      <th>name</th>\n",
       "      <th>map</th>\n",
       "      <th>ndcg_cut_5</th>\n",
       "      <th>ndcg_cut_10</th>\n",
       "      <th>ndcg_cut_20</th>\n",
       "    </tr>\n",
       "  </thead>\n",
       "  <tbody>\n",
       "    <tr>\n",
       "      <th>0</th>\n",
       "      <td>BR(BM25)</td>\n",
       "      <td>0.143248</td>\n",
       "      <td>0.253845</td>\n",
       "      <td>0.250397</td>\n",
       "      <td>0.241389</td>\n",
       "    </tr>\n",
       "  </tbody>\n",
       "</table>\n",
       "</div>"
      ],
      "text/plain": [
       "       name       map  ndcg_cut_5  ndcg_cut_10  ndcg_cut_20\n",
       "0  BR(BM25)  0.143248    0.253845     0.250397     0.241389"
      ]
     },
     "execution_count": 13,
     "metadata": {},
     "output_type": "execute_result"
    }
   ],
   "source": [
    "# Evaluate previous systems on the expanded topics\n",
    "pt.Experiment(\n",
    "    retr_systems=[BM25_qe],\n",
    "    topics=topics_qe_df,\n",
    "    qrels=train_qrel,\n",
    "    eval_metrics=[\"map\", \"ndcg_cut_5\", \"ndcg_cut_10\", \"ndcg_cut_20\"])"
   ]
  },
  {
   "cell_type": "markdown",
   "metadata": {},
   "source": [
    "#### Cross-encoder (with or without segments)\n",
    "The implementation code of this part is completed by colab  which can be found in this link: [colab](https://colab.research.google.com/drive/1Q1P1Q4YYn9_Po0kh2vVyJD_g9K3kOeoH?usp=sharing).   \n",
    "Here I just load their train outcome, or output test files\n"
   ]
  },
  {
   "cell_type": "markdown",
   "metadata": {},
   "source": [
    "Models name: re-rank 1000\n",
    "\n",
    "\"app526app000\"  = 'dph (kl)'  \n",
    "\"app526app001\"  = 'BM25 (Bo2)'  \n",
    "\"app526app002\"  = 'BM25 >> Cross-Encoder (without segments)' \n",
    "\n",
    "(max)  \n",
    "\"app526app003\" = 'BM25 >> Cross-Encoder (with segments)' (strid = 3, length = 15)  \n",
    "\"app526app004\" = 'BM25 >> Cross-Encoder (with segments)' (strid = 3, length = 10)  \n",
    "\"app526app005\" = 'BM25 >> Cross-Encoder (with segments)' (strid = 3, length = 6)  \n",
    "\n",
    "(mean)\n",
    "\"app526app006\" = 'BM25 >> Cross-Encoder (with segments)' (strid = 3, length = 6)"
   ]
  },
  {
   "cell_type": "markdown",
   "metadata": {},
   "source": []
  },
  {
   "cell_type": "markdown",
   "metadata": {},
   "source": [
    "##### Results of trainning set"
   ]
  },
  {
   "cell_type": "code",
   "execution_count": 135,
   "metadata": {},
   "outputs": [],
   "source": [
    "DPH_qe = pt.BatchRetrieve(index, wmodel=\"DPH\", controls={\"qemodel\" : \"KL\", \"qe\" : \"on\"})\n",
    "BM25_qe = pt.BatchRetrieve(index, wmodel=\"BM25\", controls={\"qemodel\" : \"Bo2\", \"qe\" : \"on\", \"c\": 0.5, \"bm25.k_1\": 0.9})   # tuned parameters \n",
    "metrics = {\"map\", \"ndcg_cut_5\", \"ndcg_cut_10\", \"ndcg_cut_20\"}"
   ]
  },
  {
   "cell_type": "code",
   "execution_count": 137,
   "metadata": {},
   "outputs": [],
   "source": [
    "experiment = pt.Experiment(\n",
    "    retr_systems=[DPH_qe, BM25_qe],\n",
    "    names=[\"DPH_qe\", 'BM25_qe'],\n",
    "    topics= train_query,\n",
    "    qrels= train_qrel,\n",
    "    eval_metrics=metrics)"
   ]
  },
  {
   "cell_type": "code",
   "execution_count": 161,
   "metadata": {},
   "outputs": [],
   "source": [
    "import pytrec_eval\n",
    "\n",
    "# Load qrels in a dictionary\n",
    "qrels_dict = dict()\n",
    "for _, r in train_qrel.iterrows():\n",
    "    qid, docno, label = r\n",
    "    if qid not in qrels_dict:\n",
    "        qrels_dict[qid] = dict()\n",
    "    qrels_dict[qid][docno] = int(label)\n",
    "\n",
    "# Build evaluator based on the qrels and metrics\n",
    "my_qrel = {q: d for q, d in qrels_dict.items()}\n",
    "evaluator = pytrec_eval.RelevanceEvaluator(my_qrel, metrics)"
   ]
  },
  {
   "cell_type": "code",
   "execution_count": 162,
   "metadata": {},
   "outputs": [
    {
     "name": "stdout",
     "output_type": "stream",
     "text": [
      "ndcg_cut_5 \t 0.45784561272991975\n",
      "map \t 0.2375310958891805\n",
      "ndcg_cut_10 \t 0.43650327260040184\n",
      "ndcg_cut_20 \t 0.41345836644852124\n"
     ]
    }
   ],
   "source": [
    "# Load run\n",
    "with open(\"/Users/zhouyuqin/github/NIR/Project/NIR2022 dataset/outputs/train0 copy.run\", 'r') as f_run:\n",
    "    cross_run0 = pytrec_eval.parse_run(f_run)\n",
    "\n",
    "# Evaluate Cross-Encoder model\n",
    "cross_evals0 = evaluator.evaluate(cross_run0)\n",
    "\n",
    "# Compute performance in different metrics for each query\n",
    "cross_metric2vals0 = {m: [] for m in metrics}\n",
    "for q, d in cross_evals0.items():\n",
    "    for m, val in d.items():\n",
    "        cross_metric2vals0[m].append(val)\n",
    "\n",
    "# Average results by query\n",
    "cross_metric2avg0 = dict()\n",
    "for m in metrics:\n",
    "    val = pytrec_eval.compute_aggregated_measure(m, cross_metric2vals0[m])\n",
    "    cross_metric2avg0[m] = val\n",
    "    print(m, '\\t', val)"
   ]
  },
  {
   "cell_type": "code",
   "execution_count": 142,
   "metadata": {},
   "outputs": [
    {
     "name": "stderr",
     "output_type": "stream",
     "text": [
      "/var/folders/1c/95b9dlpd2xv9yjh6v0xw08700000gn/T/ipykernel_19518/1485129171.py:2: FutureWarning: The frame.append method is deprecated and will be removed from pandas in a future version. Use pandas.concat instead.\n",
      "  experiment = experiment.append(cross_metric2avg0, ignore_index=True)\n"
     ]
    },
    {
     "data": {
      "text/html": [
       "<div>\n",
       "<style scoped>\n",
       "    .dataframe tbody tr th:only-of-type {\n",
       "        vertical-align: middle;\n",
       "    }\n",
       "\n",
       "    .dataframe tbody tr th {\n",
       "        vertical-align: top;\n",
       "    }\n",
       "\n",
       "    .dataframe thead th {\n",
       "        text-align: right;\n",
       "    }\n",
       "</style>\n",
       "<table border=\"1\" class=\"dataframe\">\n",
       "  <thead>\n",
       "    <tr style=\"text-align: right;\">\n",
       "      <th></th>\n",
       "      <th>name</th>\n",
       "      <th>ndcg_cut_5</th>\n",
       "      <th>map</th>\n",
       "      <th>ndcg_cut_10</th>\n",
       "      <th>ndcg_cut_20</th>\n",
       "    </tr>\n",
       "  </thead>\n",
       "  <tbody>\n",
       "    <tr>\n",
       "      <th>0</th>\n",
       "      <td>DPH_qe</td>\n",
       "      <td>0.485266</td>\n",
       "      <td>0.291812</td>\n",
       "      <td>0.470110</td>\n",
       "      <td>0.453887</td>\n",
       "    </tr>\n",
       "    <tr>\n",
       "      <th>1</th>\n",
       "      <td>BM25_qe</td>\n",
       "      <td>0.477150</td>\n",
       "      <td>0.293812</td>\n",
       "      <td>0.463044</td>\n",
       "      <td>0.442785</td>\n",
       "    </tr>\n",
       "    <tr>\n",
       "      <th>2</th>\n",
       "      <td>BM25 &gt;&gt; Cross-Encoder0 (wthout segments</td>\n",
       "      <td>0.457846</td>\n",
       "      <td>0.237531</td>\n",
       "      <td>0.436503</td>\n",
       "      <td>0.413458</td>\n",
       "    </tr>\n",
       "  </tbody>\n",
       "</table>\n",
       "</div>"
      ],
      "text/plain": [
       "                                      name  ndcg_cut_5       map  ndcg_cut_10  \\\n",
       "0                                   DPH_qe    0.485266  0.291812     0.470110   \n",
       "1                                  BM25_qe    0.477150  0.293812     0.463044   \n",
       "2  BM25 >> Cross-Encoder0 (wthout segments    0.457846  0.237531     0.436503   \n",
       "\n",
       "   ndcg_cut_20  \n",
       "0     0.453887  \n",
       "1     0.442785  \n",
       "2     0.413458  "
      ]
     },
     "execution_count": 142,
     "metadata": {},
     "output_type": "execute_result"
    }
   ],
   "source": [
    "cross_metric2avg0['name'] = 'BM25 >> Cross-Encoder0 (wthout segments)'\n",
    "experiment = experiment.append(cross_metric2avg0, ignore_index=True)\n",
    "experiment"
   ]
  },
  {
   "cell_type": "code",
   "execution_count": 276,
   "metadata": {},
   "outputs": [],
   "source": [
    "import pytrec_eval\n",
    "\n",
    "# Load qrels in a dictionary\n",
    "qrels_dict = dict()\n",
    "for _, r in train_qrel.iterrows():\n",
    "    qid, docno, label = r\n",
    "    if qid not in qrels_dict:\n",
    "        qrels_dict[qid] = dict()\n",
    "    qrels_dict[qid][docno] = int(label)\n",
    "\n",
    "# Build evaluator based on the qrels and metrics\n",
    "my_qrel = {q: d for q, d in qrels_dict.items()}\n",
    "evaluator = pytrec_eval.RelevanceEvaluator(my_qrel, metrics)"
   ]
  },
  {
   "cell_type": "code",
   "execution_count": 146,
   "metadata": {},
   "outputs": [
    {
     "name": "stdout",
     "output_type": "stream",
     "text": [
      "ndcg_cut_5 \t 0.5022852672374377\n",
      "map \t 0.3041166948593583\n",
      "ndcg_cut_10 \t 0.5004037043939596\n",
      "ndcg_cut_20 \t 0.47926621440747263\n"
     ]
    }
   ],
   "source": [
    "# Load run\n",
    "with open(\"/Users/zhouyuqin/github/NIR/Project/NIR2022 dataset/outputs/train1.run\", 'r') as f_run:\n",
    "    cross_run1 = pytrec_eval.parse_run(f_run)\n",
    "\n",
    "# Evaluate Cross-Encoder model\n",
    "cross_evals1 = evaluator.evaluate(cross_run1)\n",
    "\n",
    "# Compute performance in different metrics for each query\n",
    "cross_metric2vals1 = {m: [] for m in metrics}\n",
    "for q, d in cross_evals1.items():\n",
    "    for m, val in d.items():\n",
    "        cross_metric2vals1[m].append(val)\n",
    "\n",
    "# Average results by query\n",
    "cross_metric2avg1 = dict()\n",
    "for m in metrics:\n",
    "    val = pytrec_eval.compute_aggregated_measure(m, cross_metric2vals1[m])\n",
    "    cross_metric2avg1[m] = val\n",
    "    print(m, '\\t', val)"
   ]
  },
  {
   "cell_type": "code",
   "execution_count": 147,
   "metadata": {},
   "outputs": [
    {
     "name": "stderr",
     "output_type": "stream",
     "text": [
      "/var/folders/1c/95b9dlpd2xv9yjh6v0xw08700000gn/T/ipykernel_19518/1401061753.py:2: FutureWarning: The frame.append method is deprecated and will be removed from pandas in a future version. Use pandas.concat instead.\n",
      "  experiment = experiment.append(cross_metric2avg1, ignore_index=True)\n"
     ]
    },
    {
     "data": {
      "text/html": [
       "<div>\n",
       "<style scoped>\n",
       "    .dataframe tbody tr th:only-of-type {\n",
       "        vertical-align: middle;\n",
       "    }\n",
       "\n",
       "    .dataframe tbody tr th {\n",
       "        vertical-align: top;\n",
       "    }\n",
       "\n",
       "    .dataframe thead th {\n",
       "        text-align: right;\n",
       "    }\n",
       "</style>\n",
       "<table border=\"1\" class=\"dataframe\">\n",
       "  <thead>\n",
       "    <tr style=\"text-align: right;\">\n",
       "      <th></th>\n",
       "      <th>name</th>\n",
       "      <th>ndcg_cut_5</th>\n",
       "      <th>map</th>\n",
       "      <th>ndcg_cut_10</th>\n",
       "      <th>ndcg_cut_20</th>\n",
       "    </tr>\n",
       "  </thead>\n",
       "  <tbody>\n",
       "    <tr>\n",
       "      <th>0</th>\n",
       "      <td>DPH_qe</td>\n",
       "      <td>0.485266</td>\n",
       "      <td>0.291812</td>\n",
       "      <td>0.470110</td>\n",
       "      <td>0.453887</td>\n",
       "    </tr>\n",
       "    <tr>\n",
       "      <th>1</th>\n",
       "      <td>BM25_qe</td>\n",
       "      <td>0.477150</td>\n",
       "      <td>0.293812</td>\n",
       "      <td>0.463044</td>\n",
       "      <td>0.442785</td>\n",
       "    </tr>\n",
       "    <tr>\n",
       "      <th>2</th>\n",
       "      <td>BM25 &gt;&gt; Cross-Encoder0 (wthout segments</td>\n",
       "      <td>0.457846</td>\n",
       "      <td>0.237531</td>\n",
       "      <td>0.436503</td>\n",
       "      <td>0.413458</td>\n",
       "    </tr>\n",
       "    <tr>\n",
       "      <th>3</th>\n",
       "      <td>BM25 &gt;&gt; Cross-Encoder (with segments)</td>\n",
       "      <td>0.502285</td>\n",
       "      <td>0.304117</td>\n",
       "      <td>0.500404</td>\n",
       "      <td>0.479266</td>\n",
       "    </tr>\n",
       "  </tbody>\n",
       "</table>\n",
       "</div>"
      ],
      "text/plain": [
       "                                      name  ndcg_cut_5       map  ndcg_cut_10  \\\n",
       "0                                   DPH_qe    0.485266  0.291812     0.470110   \n",
       "1                                  BM25_qe    0.477150  0.293812     0.463044   \n",
       "2  BM25 >> Cross-Encoder0 (wthout segments    0.457846  0.237531     0.436503   \n",
       "3    BM25 >> Cross-Encoder (with segments)    0.502285  0.304117     0.500404   \n",
       "\n",
       "   ndcg_cut_20  \n",
       "0     0.453887  \n",
       "1     0.442785  \n",
       "2     0.413458  \n",
       "3     0.479266  "
      ]
     },
     "execution_count": 147,
     "metadata": {},
     "output_type": "execute_result"
    }
   ],
   "source": [
    "cross_metric2avg1['name'] = 'BM25 >> Cross-Encoder (with segments)'\n",
    "experiment = experiment.append(cross_metric2avg1, ignore_index=True)\n",
    "experiment"
   ]
  },
  {
   "cell_type": "markdown",
   "metadata": {},
   "source": [
    "##### Test Output\n"
   ]
  },
  {
   "cell_type": "code",
   "execution_count": 270,
   "metadata": {},
   "outputs": [],
   "source": [
    "with open(\"../Project/NIR2022 dataset/outputs/testsum.run\") as f:\n",
    "    file = f.readlines()"
   ]
  },
  {
   "cell_type": "code",
   "execution_count": 271,
   "metadata": {},
   "outputs": [],
   "source": [
    "with open(\"../Project/NIR2022 dataset/outputs/testsum.run\", \"w\") as f:\n",
    "    for i in file:\n",
    "        a = f'{i.split(\" \")[0]} Q0 {i.split(\" \")[2]} {int(i.split(\" \")[3])+1 } {i.split(\" \")[4]} app526APP006'\n",
    "        f.write(a +\"\\n\")"
   ]
  }
 ],
 "metadata": {
  "interpreter": {
   "hash": "81c0a520ab9d5f38718f11fc8e39c528dfdc4be4c6d24f2eb9940d412ba4096a"
  },
  "kernelspec": {
   "display_name": "Python 3.8.13 ('base')",
   "language": "python",
   "name": "python3"
  },
  "language_info": {
   "codemirror_mode": {
    "name": "ipython",
    "version": 3
   },
   "file_extension": ".py",
   "mimetype": "text/x-python",
   "name": "python",
   "nbconvert_exporter": "python",
   "pygments_lexer": "ipython3",
   "version": "3.8.13"
  },
  "orig_nbformat": 4
 },
 "nbformat": 4,
 "nbformat_minor": 2
}
