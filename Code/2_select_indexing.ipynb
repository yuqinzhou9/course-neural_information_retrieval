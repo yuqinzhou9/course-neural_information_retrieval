{
 "cells": [
  {
   "cell_type": "code",
   "execution_count": 7,
   "metadata": {},
   "outputs": [],
   "source": [
    "import pandas as pd\n",
    "import numpy as np\n",
    "import json\n",
    "import pyterrier as pt\n",
    "from NIRfunction import *\n",
    "if not pt.started():\n",
    "    pt.init(version=\"snapshot\")"
   ]
  },
  {
   "cell_type": "markdown",
   "metadata": {},
   "source": [
    "#### Import data"
   ]
  },
  {
   "cell_type": "code",
   "execution_count": 17,
   "metadata": {},
   "outputs": [],
   "source": [
    "train_query = get_query('../Project/NIR2022 dataset/train_query.csv')\n",
    "train_qrel = get_qrel('../Project/NIR2022 dataset/train_qrel.csv')\n",
    "# corpus_pd = get_dataframe(\"../Project/NIR2022 dataset/corpus.jsonl\")\n",
    "files = pt.io.find_files(\"../Project/Data\")"
   ]
  },
  {
   "cell_type": "markdown",
   "metadata": {},
   "source": [
    "##### Different indexer"
   ]
  },
  {
   "cell_type": "markdown",
   "metadata": {},
   "source": [
    "###### without pre-processing"
   ]
  },
  {
   "cell_type": "code",
   "execution_count": null,
   "metadata": {},
   "outputs": [
    {
     "name": "stderr",
     "output_type": "stream",
     "text": [
      " 21%|██▏       | 492/2296 [01:03<03:06,  9.67files/s]"
     ]
    },
    {
     "name": "stdout",
     "output_type": "stream",
     "text": [
      "21:48:10.891 [main] WARN org.terrier.indexing.MultiDocumentFileCollection - TRECCollection found no documents in ../Project/Data/FR94/.DS_Store. Perhaps trec.collection.class is wrongly set, TrecDocTags are incorrect, or decompression failed\n"
     ]
    },
    {
     "name": "stderr",
     "output_type": "stream",
     "text": [
      "2297files [04:19,  8.86files/s]                       \n"
     ]
    },
    {
     "name": "stdout",
     "output_type": "stream",
     "text": [
      "Number of documents: 528155\n",
      "Number of terms: 840517\n",
      "Number of postings: 125861126\n",
      "Number of fields: 0\n",
      "Number of tokens: 269905822\n",
      "Field names: []\n",
      "Positions:   false\n",
      "\n"
     ]
    }
   ],
   "source": [
    "# build the index\n",
    "indexer_TREC = pt.TRECCollectionIndexer(\"./indexes/stage1/index_TREC\",  verbose=True, blocks=False, overwrite=True) \n",
    "indexer_TREC.setProperties(**{\"termpipelines\":\"\"})\n",
    "index_ref_TREC = indexer_TREC.index(files)\n",
    "\n",
    "# Or load from files\n",
    "# index_ref_TREC = pt.IndexRef.of(\"./indexes/stage1/index_TREC\")\n",
    "\n",
    "# load the index, print the statistics\n",
    "index_TREC = pt.IndexFactory.of(index_ref_TREC)\n",
    "print(index_TREC.getCollectionStatistics().toString())"
   ]
  },
  {
   "cell_type": "markdown",
   "metadata": {},
   "source": [
    "Pre-processing"
   ]
  },
  {
   "cell_type": "code",
   "execution_count": null,
   "metadata": {},
   "outputs": [
    {
     "name": "stderr",
     "output_type": "stream",
     "text": [
      " 21%|██▏       | 493/2296 [01:24<04:36,  6.53files/s]"
     ]
    },
    {
     "name": "stdout",
     "output_type": "stream",
     "text": [
      "21:53:14.590 [main] WARN org.terrier.indexing.MultiDocumentFileCollection - TRECCollection found no documents in ../Project/Data/FR94/.DS_Store. Perhaps trec.collection.class is wrongly set, TrecDocTags are incorrect, or decompression failed\n"
     ]
    },
    {
     "name": "stderr",
     "output_type": "stream",
     "text": [
      "2297files [05:33,  6.88files/s]                       \n"
     ]
    },
    {
     "name": "stdout",
     "output_type": "stream",
     "text": [
      "Number of documents: 528155\n",
      "Number of terms: 739349\n",
      "Number of postings: 93025387\n",
      "Number of fields: 0\n",
      "Number of tokens: 159579026\n",
      "Field names: []\n",
      "Positions:   false\n",
      "\n"
     ]
    }
   ],
   "source": [
    "# build the index\n",
    "indexer_TREC_stemmed = pt.TRECCollectionIndexer(\"./indexes/stage1/index_TREC_stemmed\",  verbose=True, blocks=False, overwrite=True) \n",
    "indexer_TREC_stemmed.setProperties(**{\"termpipelines\":\"EnglishSnowballStemmer, Stopwords\"})\n",
    "index_ref_TREC_stemmed = indexer_TREC_stemmed.index(files)\n",
    "\n",
    "# Or load from files\n",
    "# index_ref_TREC_stemmed = pt.IndexRef.of(\"./indexes/stage1/index_TREC_stemmed\")\n",
    "\n",
    "# load the index, print the statistics\n",
    "index_TREC_stemmed = pt.IndexFactory.of(index_ref_TREC_stemmed)\n",
    "print(index_TREC_stemmed.getCollectionStatistics().toString())"
   ]
  },
  {
   "cell_type": "markdown",
   "metadata": {},
   "source": [
    "##### indexer contain term position information"
   ]
  },
  {
   "cell_type": "code",
   "execution_count": null,
   "metadata": {},
   "outputs": [
    {
     "name": "stderr",
     "output_type": "stream",
     "text": [
      " 21%|██▏       | 493/2296 [01:33<04:55,  6.10files/s]"
     ]
    },
    {
     "name": "stdout",
     "output_type": "stream",
     "text": [
      "21:31:24.148 [main] WARN org.terrier.indexing.MultiDocumentFileCollection - TRECCollection found no documents in ../Project/Data/FR94/.DS_Store. Perhaps trec.collection.class is wrongly set, TrecDocTags are incorrect, or decompression failed\n"
     ]
    },
    {
     "name": "stderr",
     "output_type": "stream",
     "text": [
      "2297files [06:08,  6.24files/s]                       \n"
     ]
    },
    {
     "name": "stdout",
     "output_type": "stream",
     "text": [
      "Number of documents: 528155\n",
      "Number of terms: 739349\n",
      "Number of postings: 93025387\n",
      "Number of fields: 0\n",
      "Number of tokens: 159579026\n",
      "Field names: []\n",
      "Positions:   true\n",
      "\n"
     ]
    }
   ],
   "source": [
    "# build the index\n",
    "indexer_TREC_block = pt.TRECCollectionIndexer(\"./indexes/stage2/index_pd_block\",  verbose=True, blocks=True, overwrite= True) \n",
    "\n",
    "indexer_TREC_block.setProperties(**{\"termpipelines\":\"EnglishSnowballStemmer, Stopwords\"})\n",
    "index_ref_TREC_block = indexer_TREC_block.index(files)\n",
    "\n",
    "# Or load from files\n",
    "# index_ref_TREC_test = pt.IndexRef.of(\"./indexes/stage2/index_pd_block\")\n",
    "\n",
    "# load the index, print the statistics\n",
    "index_TREC_block = pt.IndexFactory.of(index_ref_TREC_block)\n",
    "print(index_TREC_block.getCollectionStatistics().toString())"
   ]
  },
  {
   "cell_type": "markdown",
   "metadata": {},
   "source": []
  },
  {
   "cell_type": "code",
   "execution_count": 16,
   "metadata": {},
   "outputs": [
    {
     "data": {
      "text/html": [
       "<div>\n",
       "<style scoped>\n",
       "    .dataframe tbody tr th:only-of-type {\n",
       "        vertical-align: middle;\n",
       "    }\n",
       "\n",
       "    .dataframe tbody tr th {\n",
       "        vertical-align: top;\n",
       "    }\n",
       "\n",
       "    .dataframe thead th {\n",
       "        text-align: right;\n",
       "    }\n",
       "</style>\n",
       "<table border=\"1\" class=\"dataframe\">\n",
       "  <thead>\n",
       "    <tr style=\"text-align: right;\">\n",
       "      <th></th>\n",
       "      <th>name</th>\n",
       "      <th>P_10</th>\n",
       "      <th>map</th>\n",
       "      <th>ndcg_cut_5</th>\n",
       "      <th>ndcg_cut_10</th>\n",
       "      <th>ndcg_cut_20</th>\n",
       "      <th>mrt</th>\n",
       "    </tr>\n",
       "  </thead>\n",
       "  <tbody>\n",
       "    <tr>\n",
       "      <th>0</th>\n",
       "      <td>Pre-processed with Term Positions</td>\n",
       "      <td>0.431658</td>\n",
       "      <td>0.248283</td>\n",
       "      <td>0.461505</td>\n",
       "      <td>0.442638</td>\n",
       "      <td>0.415147</td>\n",
       "      <td>21.157651</td>\n",
       "    </tr>\n",
       "    <tr>\n",
       "      <th>1</th>\n",
       "      <td>Pre-processed</td>\n",
       "      <td>0.431658</td>\n",
       "      <td>0.248283</td>\n",
       "      <td>0.461505</td>\n",
       "      <td>0.442638</td>\n",
       "      <td>0.415147</td>\n",
       "      <td>17.531459</td>\n",
       "    </tr>\n",
       "    <tr>\n",
       "      <th>2</th>\n",
       "      <td>Without pre-processed</td>\n",
       "      <td>0.384422</td>\n",
       "      <td>0.213686</td>\n",
       "      <td>0.424357</td>\n",
       "      <td>0.398934</td>\n",
       "      <td>0.380169</td>\n",
       "      <td>17.771872</td>\n",
       "    </tr>\n",
       "  </tbody>\n",
       "</table>\n",
       "</div>"
      ],
      "text/plain": [
       "                                 name      P_10       map  ndcg_cut_5  \\\n",
       "0  Pre-processed with Term Positions   0.431658  0.248283    0.461505   \n",
       "1                       Pre-processed  0.431658  0.248283    0.461505   \n",
       "2               Without pre-processed  0.384422  0.213686    0.424357   \n",
       "\n",
       "   ndcg_cut_10  ndcg_cut_20        mrt  \n",
       "0     0.442638     0.415147  21.157651  \n",
       "1     0.442638     0.415147  17.531459  \n",
       "2     0.398934     0.380169  17.771872  "
      ]
     },
     "execution_count": 16,
     "metadata": {},
     "output_type": "execute_result"
    }
   ],
   "source": [
    "BM25_pd_block = pt.BatchRetrieve(index_TREC_block, wmodel=\"BM25\")\n",
    "BM25_pd_stemmed = pt.BatchRetrieve(index_TREC_stemmed, wmodel=\"BM25\")\n",
    "BM25_pd = pt.BatchRetrieve(index_TREC, wmodel=\"BM25\")\n",
    "\n",
    "\n",
    "pt.Experiment([BM25_pd_block, BM25_pd_stemmed, BM25_pd], \n",
    "                train_query, \n",
    "                train_qrel, \n",
    "                eval_metrics=[\"P_10\", \"map\", \"ndcg_cut_5\", \"ndcg_cut_10\", \"ndcg_cut_20\", \"mrt\"],\n",
    "                names=[\"Pre-processed with Term Positions \", \"Pre-processed\", \"Without pre-processed\"])"
   ]
  }
 ],
 "metadata": {
  "interpreter": {
   "hash": "81c0a520ab9d5f38718f11fc8e39c528dfdc4be4c6d24f2eb9940d412ba4096a"
  },
  "kernelspec": {
   "display_name": "Python 3.8.13 ('base')",
   "language": "python",
   "name": "python3"
  },
  "language_info": {
   "codemirror_mode": {
    "name": "ipython",
    "version": 3
   },
   "file_extension": ".py",
   "mimetype": "text/x-python",
   "name": "python",
   "nbconvert_exporter": "python",
   "pygments_lexer": "ipython3",
   "version": "3.8.13"
  },
  "orig_nbformat": 4
 },
 "nbformat": 4,
 "nbformat_minor": 2
}
